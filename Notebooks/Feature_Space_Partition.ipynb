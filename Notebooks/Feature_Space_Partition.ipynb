{
 "cells": [
  {
   "cell_type": "markdown",
   "metadata": {},
   "source": [
    "# Feature Space Partition\n",
    "Feature space partition based on class labels. In the process, it produces difficult-to-classify and easy-to-classify sub-reagions.\n",
    "\n",
    "**Table of Contents**\n",
    "\n",
    "- [Feature Space Partiotion](#Feature-Space-Partition)\n",
    "  - [Syntax](#Syntax)\n",
    "  - [Input Arguments](#Input-Arguments)\n",
    "  - [Output Arguments](#Output-Arguments)\n",
    "  - [Initial settings](#Initial-settings)\n",
    "- [While X is not empty do](#While-X-is-not-empty-do)\n",
    "  - [Segment dataset X into K clusters using k-means](##Segment-dataset-X-into-K-clusters-using-k-means)\n",
    "    - [Evaluate each cluster](###Evaluate-each-cluster)\n",
    "    - [Calculate the classification error](###Calculate-the-classification-error)\n",
    "  - [Is there any homogenous region?](#Is-there-any-homogenous-region)\n",
    "    - [YES, there is homogenous region](#YES,-there-is-homogenous-region)\n",
    "      - [Set them aside from X and y and set k=initial_k](#Set-them-aside-from-X-and-y-and-set-k=initial_k)\n",
    "    - [NO, there is no homogenous region](#NO,-there-is-no-homogenous-region)\n",
    "      - [If it isn't the first iteration, update the separability threshold](#If-it-isn't-the-first-iteration,-update-the-separability-threshold)\n",
    "      - [Is there any separable region?](#Is-there-any-separable-region-?)\n",
    "        - [YES, there is separable region. Set k = k+1](#YES,-there-is-separable-region.-Set-k-=-k+1)\n",
    "        - [NO, there is no separable region. Set X to empty](#NO,-there-is-no-separable-region.-Set-X-to-empty)\n",
    "  - [Final settings](#Final-settings)\n",
    "\n",
    "## Syntax\n",
    "```python\n",
    "    Output = Feature_Space_Partition(X, y, opt)\n",
    "    Output = Feature_Space_Partition(X, y)\n",
    "```\n",
    "\n",
    "## Input Arguments\n",
    "  - **X**: N x d numeric matrix. Each row of **X** represents an observation, while each column corresponds to a feature.\n",
    "  - **y**: N x 1 numeric vector. The i-th row of **y** is the class label of the i-th observation given in **X**. Furthermore, each $y_{i} \\in [1,2,..., n_{CL}]$, where $n_{CL}$ is the number of unique class labels\n",
    "  - opt: Struct array containing optional settings (default values are provided).\n",
    "\n",
    "## Output Arguments\n",
    "  - Output: Struct array containing the results of the partitioning process.\n",
    "\n",
    "## Initial settings\n"
   ]
  },
  {
   "cell_type": "code",
   "execution_count": null,
   "metadata": {},
   "outputs": [],
   "source": [
    "tic = time.time()\n",
    "#define default values for optional parameters\n",
    "defaultOpt = {\n",
    "    'initial_k': 1,                     # The starting value for k-means\n",
    "    'p_parameter': 0.05,                # The p-almost homogeneous parameter\n",
    "    'h_threshold': 0,                   # This variable's role is to filter homogeneous clusters, considering only those with more than h_threshold observations\n",
    "    'dm_case': 2,                       # The case for the divergence measure function\n",
    "    'dm_threshold': 0.5,                # The threshold for the divergence measure (separability parameter)\n",
    "    'update_dm_threshold': True,        # Flag to update divergence measure threshold\n",
    "    'return_full_dm': False,            # Flag to determine whether to return the complete divergence measure matrix\n",
    "    'return_full_history': False,       # Flag to determine whether to return the complete history of the segmentation process\n",
    "    'iteration_threshold': 2e6,         # The maximum number of iterations allowed\n",
    "    'rng_default': False                # For reproducibility, use True\n",
    "}\n",
    "#update default values with user specified values\n",
    "if opt is not None:\n",
    "    defaultOpt.update(opt)\n",
    "opt = defaultOpt\n",
    "\n",
    "#Define initial values\n",
    "k = opt['initial_k']    #Current value of k for k-means\n",
    "i = 0                   #iteration counter\n",
    "rmi = 0                 #The iteration counterfor when cluster removal occured\n",
    "nCl = len(np.unique(y)) #Number of unique class labels\n",
    "N = X.shape[0]          #Number of observations\n",
    "p_parameter = opt['p_parameter'] #The p-almost homogeneous parameter\n",
    "dm_threshold = opt['dm_threshold'] #The divergence measure threshold\n",
    "sum2 = 0                #This variable is employed in the calculation of the classification \n",
    "# Initialize the struct array rmH and H\n",
    "# In rmH, we keep a history of the segmentation process of iterations where cluster removal occurred.\n",
    "# In H, we have the complete history of the segmentation process.\n",
    "rmH, H = initializeStructures(opt)\n",
    "rmH_list = []\n",
    "H_list = []"
   ]
  },
  {
   "cell_type": "markdown",
   "metadata": {},
   "source": [
    "# While X is not empty do"
   ]
  },
  {
   "cell_type": "code",
   "execution_count": null,
   "metadata": {},
   "outputs": [],
   "source": [
    "while X.shape[0] > 0:\n",
    "    i += 1\n",
    "    if opt['return_full_history']:\n",
    "        #Start measuring the loop execution time\n",
    "        tStart_while = time.time()\n",
    "        H['k'] = k #Save the current value of k\n",
    "        H['i'] = i #Save the current iteration number\n",
    "    Indices_Num = np.zeros(k)\n",
    "    Indices = {}\n",
    "    for j in range(k):\n",
    "        Indices[j] = []\n",
    "    ClassLabel_Num = np.zeros((k,nCl))\n",
    "    ClassLabel_Indices = {}\n",
    "    ClassLabel_Proportion = np.zeros((k,nCl))\n",
    "    for j in range(k):\n",
    "        ClassLabel_Indices[j] = []\n",
    "    DominantClassLabel = np.zeros(k)\n",
    "    DominantClassLabel_Proportion = np.zeros(k)\n",
    "    nonDominantClassLabelNumber = np.zeros(k)\n",
    "    dm = np.array([])\n",
    "    rmXidx = np.array([])\n",
    "    sum1 = np.array([])\n"
   ]
  },
  {
   "cell_type": "markdown",
   "metadata": {},
   "source": [
    "## Segment dataset X into K clusters using k-means"
   ]
  },
  {
   "cell_type": "code",
   "execution_count": null,
   "metadata": {},
   "outputs": [],
   "source": [
    "       if opt['rng_default']:\n",
    "            random.seed(0)\n",
    "        kmeans = KMeans(n_clusters=k,max_iter= 1000, n_init=1).fit(X)\n",
    "        idx = kmeans.labels_\n",
    "        C = kmeans.cluster_centers_"
   ]
  },
  {
   "cell_type": "markdown",
   "metadata": {},
   "source": [
    "### Evaluate each cluster"
   ]
  },
  {
   "cell_type": "code",
   "execution_count": null,
   "metadata": {},
   "outputs": [],
   "source": [
    "        for c in range(0,k):\n",
    "                    #Indices of the observations in X into cluster c\n",
    "                    Indices[c] = np.where(idx == c)[0]\n",
    "                    #Number of observations in X into cluster c\n",
    "                    Indices_Num[c] = len(Indices[c])\n",
    "                    #Class labels of the observations in X into cluster c\n",
    "                    yc = y[Indices[c]]\n",
    "                    #For each class label, do>\n",
    "                    for l in range(0,nCl):\n",
    "                        aux = l + 1\n",
    "                        ClassLabel_Indices[c,l] = np.where(yc == aux)[0]\n",
    "                        ClassLabel_Num[c,l] = len(ClassLabel_Indices[c,l])\n",
    "                        ClassLabel_Proportion[c,l] = ClassLabel_Num[c,l] / Indices_Num[c]\n"
   ]
  },
  {
   "cell_type": "markdown",
   "metadata": {},
   "source": [
    "### Calculate the classification error\n",
    "\n",
    "Cluster classification error\n",
    "- Let $X_{c}$ and yc be the observations and class labels in cluster c\n",
    "- Let pc be the proportion of the dominant class label in cluste c\n",
    "- Let lc be the dominant class label in cluster c\n",
    "- N the oritional number of observations\n",
    "- $N_{c}$ the number of observations in cluster c"
   ]
  },
  {
   "cell_type": "code",
   "execution_count": null,
   "metadata": {},
   "outputs": [],
   "source": [
    "            max_value = np.max(ClassLabel_Proportion[c])\n",
    "            max_index = np.argmax(ClassLabel_Proportion[c])\n",
    "            pc = max_value\n",
    "            lc = max_index\n",
    "            # print(f'max_value: {max_value}')\n",
    "            # print(f'max_index: {max_index}')\n",
    "            DominantClassLabel_Proportion[c] = pc\n",
    "            DominantClassLabel[c] = lc\n",
    "            nonDominantClassLabelNumber[c] = 0\n",
    "            for x in range (len(yc)):\n",
    "                if yc[x] != lc:\n",
    "                    nonDominantClassLabelNumber[c] += 1\n",
    "        ClusterClassificationError = np.divide(nonDominantClassLabelNumber, Indices_Num)"
   ]
  },
  {
   "cell_type": "markdown",
   "metadata": {},
   "source": [
    "Classification error\n",
    "\n",
    "$ClassificationError = sum2 + \\sum_{c=1}^{k} \\frac{ClusterClassificationError(c) * N_{c}}{N} = sum2 \\sum_{c=1}^{k}\\frac{sum(yc \\ne lc)}{N}$\n"
   ]
  },
  {
   "cell_type": "code",
   "execution_count": null,
   "metadata": {},
   "outputs": [],
   "source": [
    "        ClassificationError = sum2 + sum(nonDominantClassLabelNumber) / N\n"
   ]
  },
  {
   "cell_type": "markdown",
   "metadata": {},
   "source": [
    "## Is there any homogenous region?"
   ]
  },
  {
   "cell_type": "markdown",
   "metadata": {},
   "source": [
    "**Definition D1** [p-almost homogenous]. $\\R_{c}$ is said to be p-almost-homogeneous if at least $(100-p)\\%$ of the observations  are labeled as belonging to the same class.\n",
    "Note: We are only considering homogeneous clusters in which the number of observations is greater than h_threshold.\n"
   ]
  },
  {
   "cell_type": "code",
   "execution_count": null,
   "metadata": {},
   "outputs": [],
   "source": [
    "        vec = []\n",
    "        for j in range(k):\n",
    "            aux = []\n",
    "            for b in range(nCl):\n",
    "                if (ClassLabel_Proportion[j,b] >= 1 - p_parameter) and Indices_Num[j] >= opt['h_threshold']:\n",
    "                    aux.append(True)\n",
    "                    break\n",
    "                else:\n",
    "                    aux.append(False)\n",
    "            vec.append(np.max(aux))"
   ]
  },
  {
   "cell_type": "markdown",
   "metadata": {},
   "source": [
    "### YES, there is homogenous region"
   ]
  },
  {
   "cell_type": "code",
   "execution_count": null,
   "metadata": {},
   "outputs": [],
   "source": [
    "        if sum(vec) > 0:\n"
   ]
  },
  {
   "cell_type": "markdown",
   "metadata": {},
   "source": [
    "#### Set them aside from X and y and set k=initial_k\n"
   ]
  },
  {
   "cell_type": "code",
   "execution_count": null,
   "metadata": {},
   "outputs": [],
   "source": [
    "            rmCidx = np.where(vec)[0]\n",
    "            for aux in rmCidx:\n",
    "                rmXidx = np.concatenate((rmXidx, Indices[aux]))\n",
    "            rmC = C[rmCidx, :]\n",
    "            rmXidx = rmXidx.astype(int)\n",
    "            \n",
    "            rmNonDominantClassLabelNumberbyN = nonDominantClassLabelNumber[rmCidx] / N\n",
    "            sum1 = sum(rmNonDominantClassLabelNumberbyN)\n",
    "            sum2 = sum2 + sum1\n",
    "\n",
    "            rmi = rmi + 1\n",
    "            rmH['i'].append(i)\n",
    "            rmH['k'].append(k)\n",
    "            rmH['C'].append(C)\n",
    "            rmH['rmCidx'].append(rmCidx)\n",
    "            rmH['rmC'].append(rmC)\n",
    "            rmH['dm_threshold'].append(dm_threshold)\n",
    "            rmH['dm'].append(dm)\n",
    "            rmH['rmDominantClassLabel'].append(DominantClassLabel[vec])\n",
    "            rmH['rmDominantClassLabel_Proportion'].append(DominantClassLabel_Proportion[vec])\n",
    "            rmH['sum1'].append(sum1)\n",
    "            rmH['rmXidx'].append(rmXidx)\n",
    "            rmH_list.append(rmH.copy())\n",
    "\n",
    "            rmH, _ = initializeStructures(opt)\n",
    "\n",
    "            X = np.delete(X, rmXidx, axis=0)\n",
    "            y = np.delete(y, rmXidx, axis=0)\n",
    "            k = opt['initial_k']"
   ]
  },
  {
   "cell_type": "markdown",
   "metadata": {},
   "source": [
    "### NO, there is no homogenous region"
   ]
  },
  {
   "cell_type": "code",
   "execution_count": null,
   "metadata": {},
   "outputs": [],
   "source": [
    "        else:"
   ]
  },
  {
   "cell_type": "markdown",
   "metadata": {},
   "source": [
    "#### If it isn't the first iteration, update the separability threshold\n"
   ]
  },
  {
   "cell_type": "markdown",
   "metadata": {},
   "source": [
    "dm_threshold = $\\frac{H(i-1).dm_threshold}{\\sqrt{\\frac{H(i).ClassificationError}{H(i-1).ClassificationError}}}$"
   ]
  },
  {
   "cell_type": "code",
   "execution_count": null,
   "metadata": {},
   "outputs": [],
   "source": [
    "            if i > 1 and opt['update_dm_threshold'] and ClassificationError != 0 and ClassificationError_previous != 0:\n",
    "                #print(\"Update dm_threshold\")\n",
    "                dm_threshold = dm_threshold_previous / np.sqrt(ClassificationError / ClassificationError_previous)\n",
    "                #print(dm_threshold)\n",
    "            "
   ]
  },
  {
   "cell_type": "markdown",
   "metadata": {},
   "source": [
    "### Is there any separable region?"
   ]
  },
  {
   "cell_type": "markdown",
   "metadata": {},
   "source": [
    "**Definition D2** [s-separable].  $\\R_{c}$ is said to be s-separable if the divergence measure between two probability distribution function (pdf) is equal or greater than a chosen threshold.\n"
   ]
  },
  {
   "cell_type": "code",
   "execution_count": null,
   "metadata": {},
   "outputs": [],
   "source": [
    "            cst, dm = check_separability_criteria(k,nCl, dm_threshold, X, ClassLabel_Num, ClassLabel_Indices, Indices, opt)\n"
   ]
  },
  {
   "cell_type": "markdown",
   "metadata": {},
   "source": [
    "#### YES, there is separable region. Set k = k+1"
   ]
  },
  {
   "cell_type": "code",
   "execution_count": null,
   "metadata": {},
   "outputs": [],
   "source": [
    "            if cst > 0:\n",
    "                #print(\"There is separable region\")\n",
    "                k += 1\n",
    "                if opt['update_dm_threshold']:\n",
    "                    dm_threshold_previous = dm_threshold"
   ]
  },
  {
   "cell_type": "markdown",
   "metadata": {},
   "source": [
    "#### NO, there is no separable region. Set X to empty"
   ]
  },
  {
   "cell_type": "code",
   "execution_count": null,
   "metadata": {},
   "outputs": [],
   "source": [
    "            else: \n",
    "                rmNonDominantClassLabelNumberbyN = nonDominantClassLabelNumber / N\n",
    "                sum1 = sum(rmNonDominantClassLabelNumberbyN)\n",
    "                sum2 = sum2 + sum1\n",
    "                rmCidx = np.arange(k)\n",
    "                rmC = C\n",
    "                rmXidx = np.arange(X.shape[0])\n",
    "                rmH['i'] = i\n",
    "                rmH['k'] = k\n",
    "                rmH['C'] = C\n",
    "                rmH['rmCidx'] = rmCidx\n",
    "                rmH['rmC'] = rmC\n",
    "                rmH['dm_threshold'] = dm_threshold\n",
    "                rmH['dm'] = dm\n",
    "                rmH['rmDominantClassLabel'] = DominantClassLabel\n",
    "                rmH['rmDominantClassLabel_Proportion'] = DominantClassLabel_Proportion\n",
    "                rmH['rmXidx'] = rmXidx\n",
    "                rmH['sum1'] = sum1\n",
    "\n",
    "                rmH_list.append(rmH)\n",
    "\n",
    "                \n",
    "                rmi += 1\n",
    "                X = np.array([])\n",
    "                y = np.array([])"
   ]
  },
  {
   "cell_type": "markdown",
   "metadata": {},
   "source": [
    "### Final settings"
   ]
  },
  {
   "cell_type": "code",
   "execution_count": null,
   "metadata": {},
   "outputs": [],
   "source": [
    "dm_threshold_previous = dm_threshold\n",
    "        ClassificationError_previous = ClassificationError\n",
    "\n",
    "        #Fill the history structure fields\n",
    "        if opt['return_full_history']:\n",
    "            H['dm_threshold'] = dm_threshold\n",
    "            H['dm'] = dm\n",
    "            H['ClassLabel_Proportion'] = ClassLabel_Proportion\n",
    "            H['DominantClassLabel'] = DominantClassLabel\n",
    "            H['DominantClassLabel_Proportion'] = DominantClassLabel_Proportion\n",
    "            H['ClusterClassificationError'] = ClusterClassificationError\n",
    "            H['ClassificationError'] = ClassificationError\n",
    "            H['ClassLabelProportion'] = ClassLabel_Proportion\n",
    "            H['sum1'] = sum1\n",
    "            H['C'] = C\n",
    "            H['rmXidx'] = rmXidx\n",
    "            H['ElapsedTime'] = time.time() - tStart_while\n",
    "            H_list.append(H)\n",
    "\n",
    "            _,H = initializeStructures(opt)\n",
    "        # Check the stop criterion\n",
    "        if i>=opt['iteration_threshold']:\n",
    "            #print('WARNING: The maximum number of iterations has been reached.')\n",
    "            return -1 \n",
    "    \n",
    "    return rmH_list, H_list\n"
   ]
  },
  {
   "cell_type": "markdown",
   "metadata": {},
   "source": [
    "Local Functions"
   ]
  },
  {
   "cell_type": "code",
   "execution_count": null,
   "metadata": {},
   "outputs": [],
   "source": [
    "def check_separability_criteria(k,nCl, dm_threshold, X, ClassLabel_Num, ClassLabel_Indices, Indices, opt):\n",
    "    dm = []\n",
    "    if opt['return_full_dm']:\n",
    "        dm = []\n",
    "        for c in range(k):\n",
    "        #print(f'DM DO CLUSTER C: {c}')\n",
    "        #print(f'Indices de C: {Indices[c]}')\n",
    "            for a in range(0,nCl-1):\n",
    "                Na = ClassLabel_Num[c,a]\n",
    "                #print(f'Na: {Na}')\n",
    "                aIdx = Indices[c][ClassLabel_Indices[c,a]]\n",
    "                for b in range(a+1,nCl):\n",
    "                    Nb = ClassLabel_Num[c,b]\n",
    "                    bIdx = Indices[c][ClassLabel_Indices[c,b]]\n",
    "                    #print(f'Nb: {Nb}')\n",
    "                    if Na > 2 and Nb > 2:\n",
    "                        dm.append(d_cs.Divergence_Measure(\n",
    "                            X[aIdx, :], \n",
    "                            X[bIdx, :], \n",
    "                            opt['dm_case']\n",
    "                        ))  \n",
    "                \n",
    "        #print(\"DM \" + str(dm[-1]))\n",
    "        # Yes, there is separable region. Set k = k + 1\n",
    "        for j in range(len(dm)):\n",
    "            if dm[j] >= dm_threshold:\n",
    "                cst = 1\n",
    "                break\n",
    "            else:\n",
    "                cst = 0\n",
    "        if len(dm) == 0:\n",
    "            cst = 0\n",
    "        return cst, dm\n",
    "    else:\n",
    "        for c in range(k):\n",
    "        #print(f'DM DO CLUSTER C: {c}')\n",
    "        #print(f'Indices de C: {Indices[c]}')\n",
    "            for a in range(0,nCl-1):\n",
    "                Na = ClassLabel_Num[c,a]\n",
    "                #print(f'Na: {Na}')\n",
    "                aIdx = Indices[c][ClassLabel_Indices[c,a]]\n",
    "                for b in range(a+1,nCl):\n",
    "                    Nb = ClassLabel_Num[c,b]\n",
    "                    bIdx = Indices[c][ClassLabel_Indices[c,b]]\n",
    "                    #print(f'Nb: {Nb}')\n",
    "                    if Na > 2 and Nb > 2:\n",
    "                        dm = d_cs.Divergence_Measure(\n",
    "                            X[aIdx, :], \n",
    "                            X[bIdx, :], \n",
    "                            opt['dm_case']\n",
    "                        )\n",
    "                        if dm >= dm_threshold:\n",
    "                            return 1, dm\n",
    "        return 0, dm\n",
    "\n",
    "\n",
    "def initializeStructures(opt=None):\n",
    "    rmH = {\n",
    "        'i': [],\n",
    "        'k': [],\n",
    "        'C': [],\n",
    "        'rmCidx': [],\n",
    "        'rmC': [],\n",
    "        'dm_threshold': [],\n",
    "        'dm': [],\n",
    "        'rmDominantClassLabel': [],\n",
    "        'rmDominantClassLabel_Proportion': [],\n",
    "        'sum1': [],\n",
    "        'rmXidx': [],\n",
    "    }\n",
    "    if opt['return_full_history']:\n",
    "        H = {\n",
    "            'i': [],\n",
    "            'k': [],\n",
    "            'C': [],\n",
    "            'dm_threshold': [],\n",
    "            'dm': [],\n",
    "            'ClassLabelProportion': [],\n",
    "            'DominantClassLabel': [],\n",
    "            'DominantClassLabel_Proportion': [],\n",
    "            'ClusterClassificationError': [],\n",
    "            'ClassificationError': [],\n",
    "            'sum1': [],\n",
    "            'rmXidx': [],\n",
    "            'ElapsedTime': [],\n",
    "        }\n",
    "    else:\n",
    "        H = {}\n",
    "\n",
    "    return rmH, H\n"
   ]
  }
 ],
 "metadata": {
  "language_info": {
   "name": "python"
  }
 },
 "nbformat": 4,
 "nbformat_minor": 2
}
